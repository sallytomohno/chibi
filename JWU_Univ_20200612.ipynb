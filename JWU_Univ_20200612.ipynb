{
  "nbformat": 4,
  "nbformat_minor": 0,
  "metadata": {
    "colab": {
      "name": "JWU Univ 20200612",
      "provenance": [],
      "collapsed_sections": [],
      "include_colab_link": true
    },
    "kernelspec": {
      "name": "python3",
      "display_name": "Python 3"
    }
  },
  "cells": [
    {
      "cell_type": "markdown",
      "metadata": {
        "id": "view-in-github",
        "colab_type": "text"
      },
      "source": [
        "<a href=\"https://colab.research.google.com/github/sallytomohno/chibi/blob/master/JWU_Univ_20200612.ipynb\" target=\"_parent\"><img src=\"https://colab.research.google.com/assets/colab-badge.svg\" alt=\"Open In Colab\"/></a>"
      ]
    },
    {
      "cell_type": "markdown",
      "metadata": {
        "id": "0RGG7jElxnsh",
        "colab_type": "text"
      },
      "source": [
        "## 2020/06/12 JWU\n",
        "\n",
        "インターネットに公開されているデータ解析・機械学習の講義スライドを勉強する。\n",
        "\n",
        "### [研究者総覧: 八谷　大岳 （ハチヤ　ヒロタカ） - 基本情報](http://wakarid.center.wakayama-u.ac.jp/ProfileRefMain_2450.html)\n",
        "\n",
        "[Hirotaka Hachiya’s Presentations on SlideShare](https://www.slideshare.net/HirotakaHachiya/presentations?order=latest)\n",
        "\n",
        "* [データ解析1　ベクトルの復習](https://www.slideshare.net/HirotakaHachiya/1-122959754) スライド 2～10\n",
        "* [データ解析2 線形代数の復習](https://www.slideshare.net/HirotakaHachiya/2-122960292)\n",
        "* [データ解析3 最適化の復習](https://www.slideshare.net/HirotakaHachiya/3-122960294)\n",
        "* [データ解析4 確率の復習](https://www.slideshare.net/HirotakaHachiya/4-122960296) 全スライド\n",
        "* [データ解析5 単回帰分析](https://www.slideshare.net/HirotakaHachiya/5-122960298) 全スライド\n",
        "* [データ解析6 重回帰分析](https://www.slideshare.net/HirotakaHachiya/6-122960299) 全スライド\n",
        "* [データ解析7 主成分分析の基礎](https://www.slideshare.net/HirotakaHachiya/7-122960300) 全スライド\n",
        "* [データ解析8 主成分分析の応用](https://www.slideshare.net/HirotakaHachiya/8-122960302) 全スライド\n",
        "* 9回はない？\n",
        "* [データ解析10 因子分析の基礎](https://www.slideshare.net/HirotakaHachiya/10-122960304)\n",
        "* [データ解析11 因子分析の応用](https://www.slideshare.net/HirotakaHachiya/11-122960305)\n",
        "* [データ解析12 k平均法](https://www.slideshare.net/HirotakaHachiya/12-k-122960307)　全スライド\n",
        "* [データ解析13 線形判別分析](https://www.slideshare.net/HirotakaHachiya/13-122960310) 　全スライド\n",
        "* [データ解析14 ナイーブベイズ](https://www.slideshare.net/HirotakaHachiya/14-122960312)　全スライド\n",
        "\n",
        "### [Taiji Suzuki's Homepage (鈴木大慈)](http://ibis.t.u-tokyo.ac.jp/suzuki/)\n",
        "\n",
        "* [京都大学集中講義機械学習と深層学習の数理と応用(1)](http://ibis.t.u-tokyo.ac.jp/suzuki/lecture/2018/kyoto/Kyoto_01.pdf)\n",
        "* [京都大学集中講義機械学習と深層学習の数理と応用(2)](http://ibis.t.u-tokyo.ac.jp/suzuki/lecture/2018/kyoto/Kyoto_02.pdf)\n",
        "* [社会人向け講座「データ分析者養成コース」機械学習技術とその数理基盤(第１部)](http://ibis.t.u-tokyo.ac.jp/suzuki/lecture/2018/ML_Gairon/ML_Gairon_01.pdf)\n",
        "* [社会人向け講座「データ分析者養成コース」機械学習技術とその数理基盤(第2部)第一回講義終了後修正版](http://ibis.t.u-tokyo.ac.jp/suzuki/lecture/2018/ML_Gairon/ML_Gairon_02_mod.pdf)\n",
        "* [はじめての機械学習](https://www.slideshare.net/trinmu/ss-120936714)\n",
        "* [数学で解き明かす深層学習の原理](https://www.slideshare.net/trinmu/ss-226711018)"
      ]
    },
    {
      "cell_type": "code",
      "metadata": {
        "id": "YSwYbnrbzEfH",
        "colab_type": "code",
        "colab": {}
      },
      "source": [
        ""
      ],
      "execution_count": null,
      "outputs": []
    },
    {
      "cell_type": "markdown",
      "metadata": {
        "id": "5CWKzP1kFbyJ",
        "colab_type": "text"
      },
      "source": [
        "## ディープラーニングはなぜWorkするのか\n",
        "\n",
        "* [DeepLearningがなぜうまく学習出来るのか](https://blog.albert2005.co.jp/2016/08/24/deeplearning%E3%81%8C%E3%81%AA%E3%81%9C%E3%81%86%E3%81%BE%E3%81%8F%E5%AD%A6%E7%BF%92%E5%87%BA%E6%9D%A5%E3%82%8B%E3%81%AE%E3%81%8B/)\n",
        "* [WHY DOES DEEP LEARNING WORK?\n",
        "](https://calculatedcontent.com/2015/03/25/why-does-deep-learning-work/)\n",
        "* [Visualizing the Loss Landscape of Neural Nets\n",
        "](https://arxiv.org/pdf/1712.09913.pdf)\n",
        "* [WALTZ-RES | Morphology & Dynamics of the loss landscape of gradient descent in a Resnet-25\n",
        "](https://www.youtube.com/watch?v=K_gNLpPKdsk)\n"
      ]
    }
  ]
}