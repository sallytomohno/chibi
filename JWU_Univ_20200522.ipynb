{
  "nbformat": 4,
  "nbformat_minor": 0,
  "metadata": {
    "colab": {
      "name": "JWU Univ 20200522.ipynb",
      "provenance": [],
      "collapsed_sections": [],
      "include_colab_link": true
    },
    "kernelspec": {
      "name": "python3",
      "display_name": "Python 3"
    },
    "accelerator": "GPU"
  },
  "cells": [
    {
      "cell_type": "markdown",
      "metadata": {
        "id": "view-in-github",
        "colab_type": "text"
      },
      "source": [
        "<a href=\"https://colab.research.google.com/github/sallytomohno/chibi/blob/master/JWU_Univ_20200522.ipynb\" target=\"_parent\"><img src=\"https://colab.research.google.com/assets/colab-badge.svg\" alt=\"Open In Colab\"/></a>"
      ]
    },
    {
      "cell_type": "markdown",
      "metadata": {
        "id": "Qr0rbh0f5oUE",
        "colab_type": "text"
      },
      "source": [
        "2020/05/22"
      ]
    },
    {
      "cell_type": "markdown",
      "metadata": {
        "id": "QyRc0UhvOYkj",
        "colab_type": "text"
      },
      "source": [
        "京を利用した第一原理シミュレーションによる材料設計\n",
        "\n",
        "https://www.hpci-office.jp/invite2/documents2/ws_material_180213_nakajima2.pdf\n",
        "\n",
        "本日のデータセット\n",
        "\n",
        "https://pubs.acs.org/doi/abs/10.1021/acs.jpclett.7b02203"
      ]
    },
    {
      "cell_type": "code",
      "metadata": {
        "id": "Yx3bZtZIavjW",
        "colab_type": "code",
        "outputId": "e06a2e9d-d60b-436f-d95d-0754432a55c8",
        "colab": {
          "base_uri": "https://localhost:8080/",
          "height": 1000
        }
      },
      "source": [
        "# マシンの確認\n",
        "!cat /etc/issue\n",
        "!cat /proc/cpuinfo"
      ],
      "execution_count": 0,
      "outputs": [
        {
          "output_type": "stream",
          "text": [
            "Ubuntu 18.04.3 LTS \\n \\l\n",
            "\n",
            "processor\t: 0\n",
            "vendor_id\t: GenuineIntel\n",
            "cpu family\t: 6\n",
            "model\t\t: 63\n",
            "model name\t: Intel(R) Xeon(R) CPU @ 2.30GHz\n",
            "stepping\t: 0\n",
            "microcode\t: 0x1\n",
            "cpu MHz\t\t: 2300.000\n",
            "cache size\t: 46080 KB\n",
            "physical id\t: 0\n",
            "siblings\t: 2\n",
            "core id\t\t: 0\n",
            "cpu cores\t: 1\n",
            "apicid\t\t: 0\n",
            "initial apicid\t: 0\n",
            "fpu\t\t: yes\n",
            "fpu_exception\t: yes\n",
            "cpuid level\t: 13\n",
            "wp\t\t: yes\n",
            "flags\t\t: fpu vme de pse tsc msr pae mce cx8 apic sep mtrr pge mca cmov pat pse36 clflush mmx fxsr sse sse2 ss ht syscall nx pdpe1gb rdtscp lm constant_tsc rep_good nopl xtopology nonstop_tsc cpuid tsc_known_freq pni pclmulqdq ssse3 fma cx16 pcid sse4_1 sse4_2 x2apic movbe popcnt aes xsave avx f16c rdrand hypervisor lahf_lm abm invpcid_single ssbd ibrs ibpb stibp fsgsbase tsc_adjust bmi1 avx2 smep bmi2 erms invpcid xsaveopt arat md_clear arch_capabilities\n",
            "bugs\t\t: cpu_meltdown spectre_v1 spectre_v2 spec_store_bypass l1tf mds swapgs itlb_multihit\n",
            "bogomips\t: 4600.00\n",
            "clflush size\t: 64\n",
            "cache_alignment\t: 64\n",
            "address sizes\t: 46 bits physical, 48 bits virtual\n",
            "power management:\n",
            "\n",
            "processor\t: 1\n",
            "vendor_id\t: GenuineIntel\n",
            "cpu family\t: 6\n",
            "model\t\t: 63\n",
            "model name\t: Intel(R) Xeon(R) CPU @ 2.30GHz\n",
            "stepping\t: 0\n",
            "microcode\t: 0x1\n",
            "cpu MHz\t\t: 2300.000\n",
            "cache size\t: 46080 KB\n",
            "physical id\t: 0\n",
            "siblings\t: 2\n",
            "core id\t\t: 0\n",
            "cpu cores\t: 1\n",
            "apicid\t\t: 1\n",
            "initial apicid\t: 1\n",
            "fpu\t\t: yes\n",
            "fpu_exception\t: yes\n",
            "cpuid level\t: 13\n",
            "wp\t\t: yes\n",
            "flags\t\t: fpu vme de pse tsc msr pae mce cx8 apic sep mtrr pge mca cmov pat pse36 clflush mmx fxsr sse sse2 ss ht syscall nx pdpe1gb rdtscp lm constant_tsc rep_good nopl xtopology nonstop_tsc cpuid tsc_known_freq pni pclmulqdq ssse3 fma cx16 pcid sse4_1 sse4_2 x2apic movbe popcnt aes xsave avx f16c rdrand hypervisor lahf_lm abm invpcid_single ssbd ibrs ibpb stibp fsgsbase tsc_adjust bmi1 avx2 smep bmi2 erms invpcid xsaveopt arat md_clear arch_capabilities\n",
            "bugs\t\t: cpu_meltdown spectre_v1 spectre_v2 spec_store_bypass l1tf mds swapgs itlb_multihit\n",
            "bogomips\t: 4600.00\n",
            "clflush size\t: 64\n",
            "cache_alignment\t: 64\n",
            "address sizes\t: 46 bits physical, 48 bits virtual\n",
            "power management:\n",
            "\n"
          ],
          "name": "stdout"
        }
      ]
    },
    {
      "cell_type": "code",
      "metadata": {
        "id": "BVbZaDaAa8KI",
        "colab_type": "code",
        "outputId": "92ea3021-700a-490d-978c-22197034831e",
        "colab": {
          "base_uri": "https://localhost:8080/",
          "height": 509
        }
      },
      "source": [
        "# GPUの確認\n",
        "!cat /proc/driver/nvidia/gpus/0000:00:04.0/information\n",
        "!nvidia-smi"
      ],
      "execution_count": 0,
      "outputs": [
        {
          "output_type": "stream",
          "text": [
            "Model: \t\t Tesla K80\n",
            "IRQ:   \t\t 35\n",
            "GPU UUID: \t GPU-915feb9e-469b-ba73-5a5a-488e09c2d5e3\n",
            "Video BIOS: \t 80.21.25.00.01\n",
            "Bus Type: \t PCI\n",
            "DMA Size: \t 40 bits\n",
            "DMA Mask: \t 0xffffffffff\n",
            "Bus Location: \t 0000:00:04.0\n",
            "Device Minor: \t 0\n",
            "Blacklisted:\t No\n",
            "Fri May 22 06:00:16 2020       \n",
            "+-----------------------------------------------------------------------------+\n",
            "| NVIDIA-SMI 440.82       Driver Version: 418.67       CUDA Version: 10.1     |\n",
            "|-------------------------------+----------------------+----------------------+\n",
            "| GPU  Name        Persistence-M| Bus-Id        Disp.A | Volatile Uncorr. ECC |\n",
            "| Fan  Temp  Perf  Pwr:Usage/Cap|         Memory-Usage | GPU-Util  Compute M. |\n",
            "|===============================+======================+======================|\n",
            "|   0  Tesla K80           Off  | 00000000:00:04.0 Off |                    0 |\n",
            "| N/A   39C    P8    27W / 149W |      0MiB / 11441MiB |      0%      Default |\n",
            "+-------------------------------+----------------------+----------------------+\n",
            "                                                                               \n",
            "+-----------------------------------------------------------------------------+\n",
            "| Processes:                                                       GPU Memory |\n",
            "|  GPU       PID   Type   Process name                             Usage      |\n",
            "|=============================================================================|\n",
            "|  No running processes found                                                 |\n",
            "+-----------------------------------------------------------------------------+\n"
          ],
          "name": "stdout"
        }
      ]
    },
    {
      "cell_type": "markdown",
      "metadata": {
        "id": "A7DS3oxHb0f-",
        "colab_type": "text"
      },
      "source": [
        "![](https://![image.png](data:image/png;base64,iVBORw0KGgoAAAANSUhEUgAAAsQAAAEjCAYAAAA1/BckAAAgAElEQVR4nO2d72sdR77m7//UNGiRr3Xt2L72yAcsjLhojWeMM2JWDj4XkzismfGLGXSJ7jCCfmF2r1gEd9cBrTZ4xgyHcL073mA2gzFWZuKAyApjSLIhGTPIYEMQnDfPvji/uruqurv6/Kiu+j4fqBf2+aF+nuqq85w69eNvQAghhBBCiGD+xvUFEEIIIYQQ4hIGYkIIIYQQIhoGYkIIIYQQIhoGYkIIIYQQIhoGYkIIIYQQIhoGYkIIIYQQIhoGYkIIIYQQIhoGYkIIIYQQIhoGYkIIIYQQIhoGYkIIIYQQIhoGYkIIIYQQIhoGYkIIIYQQIhoGYkIIIYQQIhoGYkIIIYQQIhoGYkIIIYQQIhoGYkIIIYQQIhoGYkIIIYQQIhoGYkIIIYQQIhrPAnEX+3dWMB9HiOKTuLK9j67rSyKEEEIIIV5THogPErSiCFHl0kZnapf7ADfi1N+au4k/TO1vEUIIIYQQCXgWiLvY376CkxwhJoQQQgghE8KzQEwIIYQQQshkqTGH+ABJaxSAW8nB5K+KEEIIIYSQGcFATAghhBBCRDOFQJx9PGpnJ1AcJK3RY60E6Vd32tnXdb+6j5sX5hFHEZbuvNA+x/y+h3ic/BRn52NEUYR4/gKu/7dnONIoOnp+D7cvne3tXhHFmD/7U2w9O8r+rdy1EkIIIYSQMGhuIL52C7cW1L9TLRBvYmfjR4iV+c0xVra/yVxPdz/BUpx/XoQovoqrP2YgJoQQQggJneYG4jjOBFqrQJx7baak/2b3USZ0FxYGYkIIIYSQIGluII5iLK1/gm+PAHTf4NuXr9XnmAJxFGNp/VO87ALdN59hcynW7oLx+qPVVHBO/T0c4fndVSwwEBNCCCGEBE9zA/Fb69jT/PVKgTj32tc7V7WB+NGtYwV/r4tOO2YgJoQQQggJnOYG4rZ+N+Pqi+oyL9IG4rK/t7+5yEBMCCGEEBI4UwjEr7FzNb047n7mNLm99beaGYiVwJvTwUBMCCGEEBIkU9mHOLs4bgmbn71BF128+Wwzu6OD40D84s5Sdt7x5md40wXQfYMvOYeYEEIIIUQEUwnE2QVu2RLH5nm5sw7E+GYLy8adJWLEBeGdEEIIIYSEwXROqjvcwVXN3r7xjzaws9mcOcRAF/vJknaLtngpwea11P+tbON7e7MIIYQQQkjDmdrRzd2v7uPmxeOYiyJE8TzO/jTB48NmLarrXym+un8bl872TsSL4nlcuL6Fx4e5OcSG6yGEEEIIIX5TIxAL4ZttrKRGud9a120CRwghhBBCfEd8IH7wq3/A7btP8OLVUe8/um/w9ScJrpxMH+ZxBhufu71OQgghhBAyHcQH4uzpePqy0O7g0PWFEkIIIYSQqcBAXBKIFy5vY79b/j6EEEIIIcRPxAfi//e/E1y/eArH50YheO74KVx8+wPcffItjlxfICGEEEIImSriAzEhhBBCCJENAzEhhBBCCBENAzEhhBBCCBENAzEhhBBCCBENAzEhhBBCCBENAzEhhBBCCBENAzEhhBBCCBENAzEhhBBCCBENAzEhhBBCCBENAzEhhBBCCBENAzEhhBBCCBENAzEhhBBCCBENAzEhhBBCCBENAzEhhBBCCBENAzEhhBBCCBENAzEhhBBCCBENAzEhhBBCCBENAzEhhBBCCBENAzEhhBBCCBENAzEhhBBCCBENAzEhhBBCCBENAzEhhBBCCBENAzEhhBBCCBENAzEhhBBCCBENAzEhhBBCCBENAzEhhBBCCBENAzEhhBBCCBFNpUD84sULlhplb2/P+TU0rdATud6Erk+KRik6JWikJ/TG97K3tzf7QEzsmWRFhQI9MRO6N6HrA2RoBGTolKDRFnpiht64gYHYE9hAVOiJmdC9CV0fIEMjIEOnBI220BMz9MYNDMSewAaiQk/MhO5N6PoAGRoBGTolaLSFnpihN25gIPYENhAVemImdG9C1wfI0AjI0ClBoy30xAy9cQMDsSewgajQEzOhexO6PkCGRkCGTgkabaEnZuiNGxiIPYENRIWemAndm9D1ATI0AjJ0StBoCz0xQ2/cwEDsCWwgKvTETOjehK4PkKERkKFTgkZb6IkZeuMGBmJPYANRoSdmQvcmdH2ADI2ADJ0SNNpCT8zQGzcwEHsCG4gKPTETujeh6wNkaARk6JSg0RZ6YobeuIGB2BPYQFToiZnQvQldHyBDIyBDpwSNttATM/TGDQzEnsAGokJPzITuTej6ABkaARk6JWi0hZ6YoTduYCD2BDYQFXpiJnRvQtcHyNAIyNApQaMt9MQMvXEDA7EnsIGo0BMzoXsTuj5AhkZAhs7paPwe2ysx5k+cwql3dvHXib//AZJWhCiK0EoO9E/ptBFFEaKoBdNTTEio97rQGzcwEHsCG4gKPTETujeh6wNkaARk6JyKxm4H7bgXWN9az73/MKhWL+1O/g8wELuC3riBgdgT2EBU6ImZ0L0JXR8gQyMgQ+c0NHYfvo9jUYQoitHudLMPMhB7Db1xAwOxJ7CBqNATM6F7E7o+QIZGQIbO2hoPO2ifPo+b977Em0zm7eLh+8d6YTRuI5+HFYbBtQ0l9xphIHYFvXEDA7EnTKyiDhK0jKMDow4wUoYLOmhHuc7R8F5RFCFqJTD3j6P30o9MVMPKkyojJnUvpIGE3qGGrg+QoRGQobOexq/xr5fmhv1TfPIKkk9fogsA32xhuf//x95/iLI8zEDsF/TGDQzEnjCJiuq0y34um2Agzj83eyETCaIMxGZC71BD1wfI0AjI0FlbY/clPk2u4GQ86KdinLySIGkv2AVRBmKvoDduYCD2hHEr6iBpmUdvO+2xA3Hm6Znwme8oU51sq1Wjkx5R3xONlsAIvUMNXR8gQyMgQ+e4GrsvP0Vy5STi3Jf4hRsP8Fp5dqofH2seMQOxK+iNGxiIPWG8ikpNUSicyjChQAxkQnGmMx2+poXkYPSedQZnpxKIlVHvdFjPvq7oS0bmMc0HRvXH2+gMvCysuyyhd6ih6wNkaARk6JyMxi5e/v4f8XepfmNueQOPD/PPcxGIV7D9vZ0aCfVeF3rjBgZiTxirolLhtDh4TjAQp0N46sFh0OuHu+E0DouwN2Digdg4rWIQilOva+UD7ei91LCbDrzFH1YDq7TvwUA8JHR9gAyNgAydk9DYfXkf7QVNvzG3jA01FWeZypSJ1MK+Y7fwyE6OiHqvC71xAwOxJ4xTUelw5TYQazpYJz+56QKxTvvo/3r/lV4MqIbkSiFf++Uk9bf7r0nXWZ1pHaF3qKHrA2RoBGToHFfj4eMEl4dheA7Ldz7DZ1vpucULuLz1DEemN6gViIvp7idY6v/9Sgv7ckio97rQGzcwEHtCECPE2vBbfz7vZANxducL/eiv/lqVAKyMNI/0ZqZCpK4o//+jf9t/UQDC71BD1wfI0AjI0DnWorqNZcxFqeC7vT8Mn0fPEizP9R6LlxLsm1LpRANxFy8/TQX0eAXb39i/i4R6rwu9cQMDsSeMVVHpebElk3WNo5u68FsQiHWj0kW7XNSZNjHRQFy2Y0a7o38dDJ5p3q+VHKQ8qBqIZ73g0A9C1wfI0AjI0Gmrsfvma3yydR3n58qnRnS/2sHalXXNXOIUD270F+Sdwfqe7VgucPTqO3z3xSN8mLyHS6dHW8FF8RLWy6ZrGGhUvQ/7a5v+dg/rZ+Zx4tRF/NMff5jo5YztzffbWInnceLUKbz7+8leW8gwEHvCeBWVm7eaS68HSUs7dzX9NG2QMwTi7PxXzdQCY7EbDZ3aCLHxS4NFIB6SG3W3njLBQKwjdH2ADI2ADJ12Gg+xczVOhc55XLh5D8+N8yEq8PojrMYl/a+h3/t+e0Xz/N72b5++tA/XA+rWe/HAyhlsfA4AXewnyzh/6yGycb3mgkNN3z46KbDer3hFjNsmvtla7l/7MrZqjN5PhJrTIbVZ46+/x7tn17Bz+Ffs/ofjWPtI3VtlEjAQe8L4FVUcSEd9YZWpA31K9yFONYSiaRup97GZNjHpRXX6xXDpzrBaIDZ12MrWdgX1wEBcTOj6ABkaARk6rTV+voHW8Yu4nnyML9/UD51pDh/exsXjc+b+2jQQcJCgFcWYP3EKi5fewQdbj/DFq3HSeY/pBOII8dX/hI/Xl3oj4nPLuHM/wZUb99HL7pMKxLkvLaXFrh8fq0287qB9rMI1ZfdKrTBgVfwFQWGSgRjfYGs5wpmNz3thf3kL08j5DMSeMKmK0oc+tbHqOp2iIFsYnDOdkK5jKHtcz1S2XdPtNDGBQJz3Tn1O8RQKW0IPGaHrA2RoBGTolKDRlrqeHHbaOH95uzdfuruPZKkXTOOlG7ixNAqp8ckbuP/tM2y2IkRRjLXfFUwdsJwy0X10CwtWoXpWgfg1HtxYqHZNEwzEpdMhLUK1aVrh64+u4+zPPsSL1x/h+tl38fu/1rSoAAZiT2CHqkJPzITuTej6ABkaARk6JWi0pZYnP3yMf5zvBaaFyxvYWF3oh+FNPDsCcPgQt871QvGZ9f+J+/0T/RbandHUiSqnlhYNaHT3sH6mH7pXtkcjlRNcuDjOl4VBUNce2tK9j2v9xxc398e8yhG1AvG1+9qdSUbv9TP89wn9OlIVBmJPYIeqQk/M2HmT/xmxbBQ/9+2+6Kexwp1I6mNb99p53ukPRs1oRfY1VUZQ9PPr6/xsWEej+YO+wh7YpfPmzR/yyq9OU14ca/zwNe7yYqgDzfN0U7bKfs2ZhkYJ1PWku7+d2oIuwsJgtHjA0TNsXU6Nki600UlPJB4rEB+iMzg2O17CHe395CIQd/Hy/igMG3cceXSrP+85wtWdyc3DHbaR0k6+aCer3HtFEaJoDscvXkfy8ReYwCydUhiIPYEdqgo9MTNeIK4wPSa0QKwJQ7UDsXEq0ZQXjY4TiDVBNvvBVOFLUuMDcfY+NL1PpXUFs5wTGii1POm+xKfJZSxEMU6ePzcMd/pyDCdPziGaO4+bd/+EwvV/FadMfL29ohyfXaVMd0vRQzxOLo/C8Mkb2S8AQ1IHqZSenFpeVlJHE04lEMfzmM/ssnIal27fxZ/GWMhZBgOxJ7BDVaEnZuoG4uEJfLnOatBJDR8PMBDnr79o95Cix9T53xWOwJ2AxvJFLPoPo1EwLArOalCofuBPMROpy+wTVB80W0922mlNem/SO/Bk39tOM/sqFXtPfsAff3Uexy9cx9anL/s/tw++qPbrWjnm/gjP793EheOnceVfPscPNUaHM/dS9yvsrJ7H6vq7WGxIIP7hDzeHYVh/lHefwx1cHew0kluUVicQa3ehKm0Uj3DrWLEnmfbdfYOvn9zFzQvzqS8iczh/fWusHU5MMBB7AjtUFXpiZuxArD08pYVWbnu43sM2gbhgpHWKR1MXB+KULl1QrBuINe/VxECshrz+89qdgsWd9Q/UyTOTQKzZ2jD3oop66ulmX6UyGU/KAnH+6WMG4gG6EWVnUyYO0blxAVeSTwtGwbt4dGswjSTGat1ty4ZTLpZwJxXlKgfioW/HcMtw1repfR89/xgbV06OgvHJW3g04S2WGYg9gR2qCj0xUzsQJx3z8drtTsWR1qIRhWYG4uRgdF3KT+qWgdjVVILJjRCnXmEKxMMPthaSTnaKiO1osasRYl09lYXcuidIsq9SqeeJ5W4Iw5K9f49efYFHWx/g7cHIY3wSVzZ+jn8fR4jiJST7XeDoOe7dPI+5+BxuPXiZXQDWqEBcTnqxXbx0x6ofGvEanfaxWn1Zjy721s/0Xn/sfTw0hPfi9t07JfHK6eVeHU0YBmJPYIeqQk/M1A/EB6MP/dw2cr1zRcYNxFlMW+xMVl+VQAzlA61+IIbWk2kHRWM9DK+xZA6x5gKNgbiwzqcbFkvn/la+tmpTQ1QvZnnMfLjMPhD/FbvvnMLxufxji/jnZ71w9c1gjvDCaZweHIl98gqSwRSN0r337fq/yXqj4wjP766OtohbWMX/qLmB7yhUx7i6Y3s6YXbRX1H7Ke1bpwgDsSf43KEOPkjyHcL32yuI50/g739p+O2kBJ89ATDqXFVjesdu/v0vUc+Z8QJxZvTvILvLQKVgqdOoqf+6o232+qped3YEtW4gVkdcZ/Qz+xiB2HwmQ3kg1h1/Pk2dtQNx4QdsKmgpz8v6VmeKiPd91RQY35MjPPvn/v05mBNbMmXi9UermD++iEvvJbj35L/gZ0r/k9pFIopw9vYjvEoPRHoUiI++/QRJeorBwmVs1xlVHS5k7H9BSG81V+lC+iPtg9ebdsDow0BMSvGuQ/36Q/xkPsa5Ww/xeBiIe51NfPaX+OMPwIMbvf0i627/4p0nAICv8eFP5hGfu4WHj0eB+LDTxkJ8Fr/sGdPrxK7uqPtIVmSsQFywyG5igbjm4qR6+iyuW/eBZxWIS05BnOK0kNpziAuoNGVCmWs+o0BsNYe4HL3W9Ihk/Z/C3fRVg/oe+TDQqJsOpX9tQfsc3AOtdWz/+hJOL095SlCf7puX+OLjBNfPD07dW8CNB/2ecqBncRO9XXY7aEdzOP6TbWSTRxdvXn7YD8Rv4Z3//CGS2+/i3bcv4tSJFpaXB0EyxvyFm7j75FuU7vrVgCkT3Tdf48m9BO9dOj0MoINjto2L7XIcvfoO3333BR79dgsfvH0xM6KubHFnev0Xj/DbrQ/wzqWzmE8dGV646K8PAzEpxb6i7H9aynyI1Vx8EJ/7Nf5c4XjMVrKD9bd0j03/pDrrTcQzDbPmT3bxOfz6zxVW87YS7Ky/NeMRBnUXhPx1Fs6rtQ3ENUcS6+uzu+4q++pWCcRVF+hNSuNMA7Eu/NbcUcRNIO6gnblI/WmZk/pwnm0grnk8cUanTSBO0ElasF2sVc+T0S4FURQhmjuP2+n5vYPBhKI+vHSUt4Xk4AjP767hZCrMnbz1CIVruJwH4t7xxiMdMeYzO3KU/lXDZ3KEeP4Cbt57Xv6lYG8db2leP3f6Em5XeT0YiEkFfAnE2e1csj8/RdExXLvf/3qY2iA8WwINxNEytlK/M6UXOURRhGPX7vdPUsp1+Kkyy0Cc/dAoCQgB7DKRve6CQ0iK3m8o2fylp5G7TBRQdIS4Uees9iEeNxCX1lFxW2/+LhOzGiFOcPD6I6zGMU7+x/9VHBpT1PVkb/1HOL54Ce8lH+N5PmF193Hn0onMqGQ8fxY/3d5PhcJevcbzJ3Dq1CksXnoH7757G8mHv8VvH32B716+GT336Dnu3b6E06fbhr19UzgPxMA3WyuYP3sJ7yX38ORb25Msuui0Y0TRHI6fOoVTF9/Gux9s4d+qjI4P36KDdtx7/cW338UHW/+GJ1+/qRjIezAQk1Km16GOv33S6wc3hpPtRyMEXewnS4jjJbSvLSKKIvy43cZCvIRk/3C4WrX3N1/gzlIvMJu2YtEx7Q+ZsRvm6we40T9RKV79aDj9obufYCmOsdS+1tvL8sdttBdiLCX7OOy0e18U+n/zxZ2lXmC2MQYTCMRlOxLUDcRFX7QaE4iz1z2ZRXWzPKluNoE4+zft3jeNm0CsG0XNP5+BuFK7zZTpD2hIgN64gYHYExoRiHUfNIcdtAfHaLY2+/OLuvhqZxUL8RLWHx+mFtV1sX9nBReWl/C3mQ/QQeeb3duwjOYEYp2H6dHxFjb7E6+6X+1gdSHG0vpjHKYW1XX372DlwjKW/jb7wTLwbsnGGITfoYauD5ChEZCh020grlCyE/yVLwKj/ckZiGcBvXEDA7EnNDIQd/eRLPUWxg33bgSAv/wO1y9cwdaz3g8tyi4TR8+wdfk8Fhai/uKH/jXEN/DA4sqbG4j7o+P9UfOlZPBz3V/wu+sXcGXrWe8nKGWXiSM827qM8wsLiKJFbO4PriHGDRtjEH6HGro+QIZGQIZOvzRqArHus+HFHSyN8QuaX57MFnrjBgZiT2hWIF7B9v5jrA/CcLSAtnaCVRcP31/A3Fys3Uni0a1jvfd6uNmbOmC5q0ITA/HK9j4ery8NF3YstDvQOvPwfSzMzSHWae7Pr17ZfojNxQhRdBW2G3GE3qGGrg+QoRGQoXPWGq3XSSgjxfk5xLqQnPT+79gtPMID3Dx+Ahff/lf8ueI1Sqj3utAbNzAQe0ITAvH32yv9znAZKyuDkeFzuPUwH/kqLDxrd9DttBGnfo5b2f7e6sobE4i/38ZKX9fyyspwZPjcrYdKGC7/oGqj0+2gHUeIWq3eCPLKNuycCb9DDV0fIEMjIEOnm0CszqE2HiGuzCU2BOJWgoP+L1vDQBy10RnsLmDRV0mo97rQGzcwEHuC+0D8GjtX+6Ft6Q5eHO5g9fQa7irLfAd08fD9Y8gstBtsiXPtfm8KwesdXB0EwXgVtserNyUQv9652g+zS7jz4hA7q6exdte8xUz34fs4FqUX2j3AjThCFF3D/Z4xI69rnjsfeocauj5AhkZAhs4wA/HgmPer+PnPz1gPakio97rQGzcwEHuC60Dc3d8crrpf3qpwTs3rj7AaZ+fQ7m8u5haIpYJfjXlojQjE3X1sDhauZLacM/EaH632RteHJ/bs96eMLN0Zbh4/Ctn2uxMA4XeooesDZGgEZOh0otFq60zz1oPmKRP7uH8t9X/H2uhYfHeXUO91oTduYCD2BJeB+Oj5XawOdpJYuIVHVTYVfP0IvxqeJNTC5v4eNs5EiKIz2Pi8/5yDO1ga7hdpfz6680B89Bx3Vwc7SSzgVjVj8OhXo2MsW5v72Nvoja6cGRmDO8P52RHiqzvaechFhN6hhq4PkKERkKHTaSBO9V/qCLG6NRsAHL36I/5psffcueMnMH9Dv3fEYFvIKIqxsm11oK+Ieq8LvXEDA7EnzPxgDnTx5suPkVwfhbfMThKV6OLlJ7/ojX7GcW+6xGAU9egZNpdiRAttdB73g/FChc3PU7g5mAPovvkSHyfXcX54pGV6J4lqdF9+gl8s9l4bx7152b2B9yM821xCHC2g3XncD8amRYtmQu9QQ9cHyNAIyNDpVSDWHZqU2pbt6NsnuHv7ElZ+s4fDez/Dv4siRH/3C3y6n2Bp/gRu/6Ha5Umo97rQGzcwEHvCzANx9yHeT52YNnf+Ju5/VT3ydd98jSd3b+MfTsb911/Aubg/TeBlf4eKhVXs9N9zcHLb6MS2ctwE4sHc6P5jc+dx8/5X1cNw9w2+fnIXt//hZO8Lwtx5XDgX979svOzvULGA1Z3+ew72eT52Dfdn8GXBF0LXB8jQCMjQ2bxAnJvukA7Er3ewOn9ieFLZbx/9GV//3ye4l7yHS2fnEc+dxqXbd/GnL+/h2vAz4gw2dnpTv6qezSKh3utCb9zAQOwJLhrI5xstHL94HcnH1c4gT70SG2dizJ9YxKX3EtzrH/149GwTy+dvINm4jPOXEzzOBLwu9pNlnL7yG/yfv1T7K846jc830Dp+Edd1R4eWvvQM4vkTWLz0HpJ7T/BtzxhsLp/HjWQDl89fRpI1Bt39BMunr+A3VY1B+B1q6PoAGRoBGTqbF4gP+tte9n6lOnnlv5rXSfQD8sW3P8DWoy/xpovRL3zxOdzaWk9Nfau+5kFCvdeF3riBgdgT2EBU6ImZ0L0JXR8gQyMgQ2dTNBp3mbDk9d5vsHx8GcmzI/ROJl3DyTjC3PK/TO34dUnQGzcwEHsCG4gKPTETujeh6wNkaARk6JSg0RZ6YobeuIGB2BPYQFToiZnQvQldHyBDIyBDpwSNttATM/TGDQzEnsAGokJPzITuTej6ABkaARk6JWi0hZ6YoTduYCD2BDYQFXpiJnRvQtcHyNAIyNApQaMt9MQMvXEDA7EnsIGo0BMzoXsTuj5AhkZAhk4JGm2hJ2bojRsYiD2BDUSFnpgJ3ZvQ9QEyNAIydErQaAs9MUNv3MBA7AlsICr0xEzo3oSuD5ChEZChU4JGW+iJGXrjBgZiT2ADUaEnZkL3JnR9gAyNgAydEjTaQk/M0Bs3MBB7AhuICj0xE7o3oesDZGgEZOiUoNEWemKG3riBgdgT2EBU6ImZ0L0JXR8gQyMgQ6cEjbbQEzP0xg0MxJ7ABqJCT8yE7k3o+gAZGgEZOiVotIWemKE3bmAg9gQ2EBV6YiZ0b0LXB8jQCMjQKUGjLfTEDL1xAwOxJ7CBqNATM6F7E7o+QIZGQIZOCRptoSdm6I0bGIg9gQ1EhZ6YCd2b0PUBMjQCMnRK0GgLPTFDb9zgJBDv7e2xsLCwsLCwsLCwNKbMPBC/evWKxbLs7e05v4amFXoi15vQ9UnRKEWnBI30hN74XhiIPSlsIPSE3sjRJ0WjFJ0SNNITeuN7YSD2pLCB0BN6I0efFI1SdErQSE/oje+FgdiTwgZCT+iNHH1SNErRKUEjPaE3vhcGYk8KGwg9oTdy9EnRKEWnBI30hN74XhiIPSlsIPSE3sjRJ0WjFJ0SNNITeuN7YSD2pLCB0BN6I0efFI1SdErQSE/oje+FgdiTwgZCT+iNHH1SNErRKUEjPaE3vhcGYk8KGwg9oTdy9EnRKEWnBI30hN74XhiIPSlsIPSE3sjRJ0WjFJ0SNNITeuN7YSD2pLCB0BN6I0efFI1SdErQSE/oje+FgdiTwgZCT+iNHH1SNErRKUEjPaE3vhcGYk8KGwg9oTdy9EnRKEWnBI30hN74XhiIPSlsIPSE3sjRJ0WjFJ0SNNITeuN7YSD2pLCB0BN6I0efFI1SdErQSE/cefN0YxFRFOXKIjae5p+7izXleWvYHTz+dAOLpe8xftldy/3dhhQGYk8KOw96Qm/k6JOiUYpOCRrpiTtvnm4sIlrcwNOy52gC7u7a6P9217IhtfeaCQfXYehmIGYgHqOiXF9D0wo9ketN6PqkaJSiU4JGeuLOm9JAvLtWM4D2RpTXdiel7Sk2FiOsrdW9nun7zkDsQWHnQU/ojRx9UjRK0SlBIz1x501xIO6F0MWNpzWupVogzsjHrsAAABs7SURBVE7ZWMTG7gYWNaPRTzcWEa3tjhHQp+87A7EHhZ0HPaE3cvRJ0ShFpwSN9MSdN4WB+Kk+nFYqFYKrOq1iME859zfT78VAzEA8bkW5voamFXoi15vQ9UnRKEWnBI30xJ032kV1g4D8dAOLdcJnf65v8ciyYQQ5H8Lz/2YgZiAet6JcX0PTCj2R603o+qRolKJTgkZ64s6bSY8QDwJ26dxhU9jO/E1NaGYgZiAet6JcX0PTCj2R603o+qRolKJTgkZ64s6b4jnEdgvjrLZEqxCI9VvCjUq9uc3T852B2IPCzoOe0Bs5+qRolKJTgkZ64s6bsl0mdtei0m3ZbJ43LP1pFUrY3l0r3sOYI8QMxONWlOtraFqhJ3K9CV2fFI1SdErQSE/ceVO+D3FvpwldCB3tQ7yLtRqL79QRZcOiunRhIGYgHreiXF9D0wo9ketN6PqkaJSiU4JGeuLOG9O0hPx0BO3z1nZ7jyun1GkW6BlKLxSnTr4rm7fMQGwZiIsqJ12JmdL/ZqJ9zO8ys85jd818rGO/ZG9+8zygfOPL/6yi7F1o+c20cR1q3jtNJ6J4V3QfFz5nmt6YRgoGowxRYb0qnWMtD5pQ9wYfKtTzq1fh3N/Z+krrqHY/NFFn2T1a9Lo6cx6bUpe6OlPrS31Oef8+m/u7Ut+Ra59F96O5Pm364Fw/kfv7ft8vNcs4W705LM0NxJqbs/Lm0AzENctTbKxlP9x1c4qqfCiUzUXK711Y54jIpnUaTzc2Utff/1BJe/B0A2sZ33r39WLh/+meMyVvMl9CzYG47AMmrVm5Dyp54LjuS3woredXodzffW3G/rT8fmiiztJ71ORDEAFnFxvp6++Ht/wOAJl/a+aJOrm/q/Qd+bmr2rmsZfVp1wcPD5vQ/T3THFtv7pd6pcpR0k0s4QTi/mrHtTUG4okW5ZtehVNvdtdKGoOuPu1P02l8p1F1U/OUV9qOpMbPS/bepPw3frsva4eaxyuMFNTpPKdX91V8KKvnMO7vzAd91fquUWar0/4eHd2f9U/8cl2X5lJN027mc7U593e279Bfw24uE5TWp6a/NfdR6S+F+vdrVv82+TKag5z2b5LHPc+uBBKIRzdl/uYPpTQtEJfVRWlgNv2UblF3je80rAOxwbsaPz+N5U1hIC66jhACcQ3f8/UcxP1dJezWW4TjVme9e7RXGIhfvXrVqPs703cY6rEszI4ViDODP4bPxhoHYzT3fjHUwZjTpppSggjE6YbIQDzZonYEublV2p/8F7Hx1DwHy9S52AajZncaVaYC5Dtk031uPxI3lUCsmdevnxc+6vyr/hzdqCkTZT6U1HMQ9/fgQzxX55l6qnA/NFGn/T06KOEF4mpTHbL9T3Pu71x9mAYgjAMTpvrMTxUy9+XZ6YNFAXuGAxostYv3gTjfCBmIJ1iq/PSRP95x+CGp/oQ8eE5zOtRJl/TctPIO0LRdTWMDccX7IzNiUGl1sv1qY7eBuLieg7i/BwuDcvO/C+dD1vyp1IVOm3s0X+/eB+L0oq/Sz0p1jnxT7m+l75hYIE7pLpo3rhn57d1X6T6hwhZkTb9fBBW/A7HmRmcgnkzpdTYVG3G6HgwfmumRiKZ0qNMt5n0fh52kotWzQKzUmeYDxjg6YvKgQXVfyQe1noO4vw31VmmxbBOnv+Tqq9o9WuG1jdRoW89FgU/9PHV/fxv6jkkFYk271933pjn22SkEg19Zwp0yEVLxOBDrt/wZZxuYJpfZNRD9qvnCkulwKnx5adActOkW03zF4lGJ5s4hVkvmQ9CwmFKp10IPGlT3lX3I1XMI97f1fMxqjzvXWfUe1ZYAA7GpzopG+13e30V9x4TmEOt3Ucr35Rbz50sXmft1v4RcPA7E+sIR4nFK2TZL+lJlYVj54gf7LZya32nk7tsKW/Bo799Zd6gWgTh9vaYPnoymmtsQOan7uoE4iPtb3+eW9a91+t9Z6qx0jxqLkEBcNmLu6v4u7TvM92z1AQhTHWu+9E5x3nmT75eQCwOxJ2V2AaDkp538XpC6b+wV9mLM/wTV+JGl0rKLtdx9l5/jVr6Nlc6reltbTSUQ5/cnVUaRTPuC5hbkTKB9ugvE5fU8/D/P729lwZVmj9fi+6GJOsvvUfO0EP8D8dONtez9rOm/6+wzP4v7u0rfob9nTZ9p1RfBZdt4Qfjf3SidauHT/TKJ4lMmYyD2pMykgSin1Gl2iai6srzCaUGZU4e87zQ0U3hymnQn/Gn9yXk885X7BYG4fFqSuguJ8kWoigdNqPuCkbAqJ9WFcH8XnkZW6X5oos4K92iggVjXx1efiqgLibO7v6v2HcocXuN7FtRn0YmtRQNH+dfVzCJjz6/OlXGmp41bxstkZVNjC9bo1DwB1YNAzNKYDrVBhZ7I9SZ0fVI0StEpQaMUT+oe3z1tbwZfBLT7IDscJJzkIGWV9xrnxGIGYk+Kr50HPaE31EeN0nVK0CjCkxoLnGfiTY3TTGdVZhqIn453YjEDsSfFy86DntAb6qNG6hShkZ648sZ+Ko9yupw2POanX+i/CGSnsqxhNxfOdSE2//erTpcrDsTjn1jMQOxJYedBT+iNHH1SNErRKUEjPXHkjeWotboIWLPVqnGxfMl8e83BXPlwqizAtNh5qCjoTuLEYgZiTwo7D3pCb+Tok6JRik4JGumJI2+0i/xyo7uFW56q/28KlOoWmqbF16ZArN+/uWqANT1vUicWMxB7Uth50BN6I0efFI1SdErQSE8ceVMyQlzl8KTsVnJF28qtlb9XUSDW7FJlsyOHcZ/+CZ1YzEDsSWHnQU/ojRx9UjRK0SlBIz1x5U3xtrTNC8T1F/+pQXeyJxYzEHtS2HnQE3ojR58UjVJ0StBIT9x5U3QwSvkpser/V5oyYTjRMH84ijplov5JpeNOrajiOwOxB4WdBz2hN3L0SdEoRacEjfTEpTeDkVJ19FU7v1a3qC4dIKucQFuwGK9oUZ3uZE/lBEVDYSBmGVaU62toWqEncr0JXZ8UjVJ0StBITxrgjfa0WcMitrKT7JT5vrqpDrkpC4sbeFph2zXl1MGK4ZWBmGVYUa6voWmFnsj1JnR9UjRK0SlBIz2hN69evWr0ISFVfGcg9qB43UDoCb2hPmoUrFOCRnpCb169muzJdC58ZyD2oPjcQOgJvaE+apSsU4JGeiLNm6fYWMzPBV603tmhSYWB2JPiRwOhJ00poXsTuj4pGqXolKCRnsjzRpkL7HEYHvjOQOxB8aWB0JNmlNC9CV2fFI1SdErQSE/oje+FgdiTwgZCT+iNHH1SNErRKUEjPaE3vhcGYk8KGwg9oTdy9EnRKEWnBI30hN74XhiIPSlsIPSE3sjRJ0WjFJ0SNNITeuN7YSD2pLCB0BN6I0efFI1SdErQSE/oje+FgdiTwgZCT+iNHH1SNErRKUEjPaE3vhcGYk8KGwg9oTdy9EnRKEWnBI30hN74XhiIPSlsIPSE3sjRJ0WjFJ0SNNITeuN7cRKI9/b2WFhYWFhYWFhYWBpTZh6IiT2TrKhQoCdmQvcmdH2ADI2ADJ0SNNpCT8zQGzcwEHsCG4gKPTETujeh6wNkaARk6JSg0RZ6YobeuIGB2BPYQFToiZnQvQldHyBDIyBDpwSNttATM/TGDQzEnsAGokJPzITuTej6ABkaARk6JWi0hZ6YoTduYCD2BDYQFXpiJnRvQtcHyNAIyNApQaMt9MQMvXEDA7EnsIGo0BMzoXsTuj5AhkZAhk4JGm2hJ2bojRsYiD2BDUSFnpgJ3ZvQ9QEyNAIydErQaAs9MUNv3MBA7AlsICr0xEzo3oSuD5ChEZChU4JGW+iJGXrjBgZiT2ADUaEnZkL3JnR9gAyNgAydEjTaQk/M0Bs3MBB7AhuICj0xE7o3oesDZGgEZOiUoNEWemKG3riBgdgT2EBU6ImZ0L0JXR8gQyMgQ6cEjbbQEzP0xg0MxJ7ABqJCT8yE7k3o+gAZGgEZOiVotIWemKE3bmAg9gQ2EBV6YiZ0b0LXB8jQCMjQKUGjLfTEDL1xAwOxJ7CBqNATM6F7E7o+QIZGQIZOCRptoSdm6I0bvAnEB0kLURTlShsdi/fotPOvt38PV7CBqNATM6F7E7o+QIZGQIZOCRptoSdm6I0bPAjEHbSjCFErwUH+kXYLSf4/i96pHSFq+xB/VdhAVOiJmdC9CV0fIEMjIEOnBI220BMz9MYNDQ/EB0haEVo2qbcABuKwoCdmQvcmdH2ADI2ADJ0SNNpCT8zQGzc0OxB32pZTGvqjyYOSG1WuEoiVqRm55w/eYzD9YhTWe+E9/dr0S/Pva5vL2UBU6ImZ0L0JXR8gQyMgQ6cEjbbQEzP0xg2NDsR2I7q9MJx+eqedDcVl79cLuekA3g+5+fdQAm0/iGf/+PA5B0krG84PErQsQzEbiAo9MRO6N6HrA2RoBGTolKDRFnpiht64ofGBOD9dwjTSepC01LB7kKAVjeYZaxfVjd4g89zC98iNPCuBN6sCbc372k7fYANRoSdmQvcmdH2ADI2ADJ0SNNpCT8zQGzc0PhCbQ2N2RFi/g0SEKB9mTe/XaRtCbW+UOPN3NNMojPOc+6PB2mtjIB4LemImdG9C1wfI0AjI0ClBoy30xAy9cUOjA3H5yGs2qJYtvnMXiMff2o0NRIWemAndm9D1ATI0AjJ0StBoCz0xQ2/c0OhArJsXbHqsODz3X1EUiG2mTOTewya414UNRIWemAndm9D1ATI0AjJ0StBoCz0xQ2/c0PBAjP5OE7oR2FzQ7E9NyD6vg3YqidZeVFf6HsWL6tT3BQ6SttUeymwgKvTETOjehK4PkKERkKFTgkZb6IkZeuOG5gdiALotzbRzcJX5utkR3yoL2fJzkfNB3PweuS3fcgFYmeNsOWTMBqJCT8yE7k3o+gAZGgEZOiVotIWemKE3bvAkEBM2EBV6YiZ0b0LXB8jQCMjQKUGjLfTEDL1xAwOxJ7CBqNATM6F7E7o+QIZGQIZOCRptoSdm6I0bGIg9gQ1EhZ6YCd2b0PUBMjQCMnRK0GgLPTFDb9zAQOwJbCAq9MRM6N6Erg+QoRGQoVOCRlvoiRl64wYGYk9gA1GhJ2ZC9yZ0fYAMjYAMnRI02kJPzNAbNzAQewIbiAo9MRO6N6HrA2RoBGTolKDRFnpiht64gYHYE9hAVOiJmdC9CV0fIEMjIEOnBI220BMz9MYNDMSewAaiQk/MhO5N6PoAGRoBGTolaLSFnpihN25gIPYENhAVemImdG9C1wfI0AjI0ClBoy30xAy9cQMDsSewgajQEzOhexO6PkCGRkCGTgkabaEnZuiNGxoeiPPHIeeOU+601eOcc887SFrKEc49+sdBtxIoDzUQJw2kfxR29vhq9Rht5RRq5Qht9Shrte5yj1egcZ1GFd2Zp5vuzRG9I79n7U0Hbe115duj5jm6Nqm0sdw9VKMNTrPubY5ZP0ha+scr+VDMrO5vo4bBY0X1nbvn80fdV2FaOot0Dei0q11z9p4IoK/Kt2XTvXmQoFWgN+tLcV+Wp44nldpmru0V3QLm+s/5U3gf5frLBrcJUowXgThzL2pD2uD/9Q2y01YbfK+jt+/YXOGigQw6n6zXHSTpf/c7H7WOirw9QNLO1oeujspoXKdRqjvNoMMt+BAZdqwz+gDOdOT68JN00v/UBPpOu6Qe+2F4eMPk/12NqdX9QYJ27n5va/qbzAez6UN5zC/b076/yzTk+0ilz+zfL6OqzP27IpPWWVo3uS9kZYEl3zd531dVqadMqNT1P/XabRprT6q0zU472yfl/917o5L6z7+vvg8YXVbqi1dD2wSphn+BGIZv/gWBeFI3qUtm3kA6bUStNtqtsg+MXueidkqWIa6o/gw0rtOw0N1pR2i12wWae7622zW8RB1vUvVYuS7U9nmQtIrDgs6jhte9oimlodMuCJNNDsSlGnR9b7at6zSa/Chiojqt6kbTd6lvaBiUae79Wky/XymsopRmQ59WZfS9jEl4kr0H9fWZvw9K61+j2dyes342sk2QyngZiLU3WEknlR7dqHODuma2DWTwE1CVDwxDILYNA15/yPSpqnvwvALNww+cOl8uMKY34wbigrZVPXwV4zQQpygMXQ0IDFXQajDcd+nnNv3Dv/xaBAZi2/5E+3z79qpj4oHYUC9lYXasQJzr85veJkgx/gVi7U8gqNBJ9W/+ll9TJQbMroGkO4nyDwzd1JPsvMNqP/nXGVFrWqdRSXf6PjXds+kOucGBWPfTsTLHL/O46X6qEkyyuGkPKqYPu2IfquEyEJvaY/b/cz8lN+zn4ckEYrWP83nKxOCLWunc8AHGX3Ta6Iw5V3Z8T3L1Z+orjX1ocX80unfMUybUOcjNbhOkGC8CcaUFLlU+xPvzoupMcneNmw/Hom/QVRYbpN6zKNTp5iFXoOmdhqo79wVPd8/m/69hgTj9QVrejvILV/0LxGX3brXRn3oLeJsfiIF8H11n1LDpgRjIfdlt8JebMnTrQgrX0+j6n0H/n/ahRvAb1xOlbU4sEI8eK+zrjGtGmtsmSDFeBOLRF7WC4FQaiPvf3FrlK/ubyCwaiPphV+EDo9KXDPP79Dq1evXR/E6jZLRduWdNv4g0JxBnn9aq0OGnNfkUiPsfaiXhp/rPoc2dFlI7ECv3ZrMWSE4mEJvWSPg5ZUI/ul2waMwYiFX9tiPn9T0xtM1JBWJN/2dcmF861ahZbYIU41cgRsFP6yUf4ukbus5PXq6ZWQAwlpLtwyrsLKDdvm2Memh+p5HSXbJFoPozplpmFhgt5kiWh45sG/ZiDrFpJxsNoQbi8jnEhsVZDZpfO5FAbFgXYDsvtCl9lb6vLvDBYhGs7bS3cXbCMY/Yjj+HWL8VW7796rambH6bIMV4F4iN32aLbrr8N1ruMlERizl2hR1hvh7H37IH8KHTKAlBlaf5NHOEGKgQDHLvpb1XrLar6zHNbdds+obKwajBH4rVFymnP/AN93aDdE4iEJv6Nl8DsfUiOYvnT92T0rZpvq6iaRG6gZrSQKz9otT8NkGK8TAQQ/+TjfGm0wdo7kNcBbVzOEjaGt+zz+m0s74qc71qBCAdTes0SnXn8SwQ5/WpU5jy+0vrfgXIt0f76RKA28Mc0uhDQBUfynEaiAf/X7CCXu1Dm6WzbiDO6jbtddvM0f5y1MGIwl9Mi7ZdU+bvTjf0VWmb+usy9Z9Fa2Q0UyaG72Peuq7pbYIU42cg1t1kBSMahRuLezJ1oimBWPfTv3akoGiFfdH0AR9HXfpY7yzgWSBWp3QUb3hvrs/s9JwmneSk1GHJ4hhjIK7kQzGuA/HwsYL7WbknGrTgbDKBGNBNJ/N7AbDFSZEF/U/lnSoM2HpStW1mr6vkgKjCqSKGKYMlAzpNbhOkmIYHYjKADUSFnpgJ3ZvQ9QEyNAIydErQaIuvnlQ97nscfPXGdxiIPYENRIWemAndm9D1ATI0AjJ0StBoi5ee1JgPXAcvvQkABmJPYANRoSdmQvcmdH2ADI2ADJ0SNNpCT8zQGzcwEHsCG4gKPTETujeh6wNkaARk6JSg0RZ6YobeuIGB2BPYQFToiZnQvQldHyBDIyBDpwSNttATM/TGDQzEnsAGokJPzITuTej6ABkaARk6JWi0hZ6YoTduYCD2BDYQFXpiJnRvQtcHyNAIyNApQaMt9MQMvXEDA7EnsIGo0BMzoXsTuj5AhkZAhk4JGm2hJ2bojRsYiD2BDUSFnpgJ3ZvQ9QEyNAIydErQaAs9MUNv3MBAPDXUIzLHgQ1EhZ6YCd2b0PUBMjQCMnRK0GgLPTFDb9zQ+ECsHNdY4ShY3XOy71NwlHOV4xYPErRMRw8P/z4D8bShJ2ZC9yZ0fYAMjYAMnRI02kJPzNAbNzQ7EB8kaGeOhOkF31bh/6nPyZ9Nr55Vnw+vNmG29/cmlHuNsIGo0BMzoXsTuj5AhkZAhk4JGm2hJ2bojRuaHYg1HCStTJjN/xsA0GmnRoE1gTV//GLm+YbnGGEgdgU9MRO6N6HrA2RoBGTolKDRFnpiht64wfNA3BvJbeVTaybMlgfiTls3Glw16JqeZ7i2mrCBqNATM6F7E7o+QIZGQIZOCRptoSdm6I0bPAvE+ZBpCqPZ/z9IWpkR4OyUCVNwrRpoGYhdQU/MhO5N6PoAGRoBGTolaLSFnpihN27wKhD3FsalpzZUC8TAIBTrFswxEPsKPTETujeh6wNkaARk6JSg0RZ6YobeuMGTQNzfRULZ+aFKINYE004b0XDKBAOxr9ATM6F7E7o+QIZGQIZOCRptoSdm6I0bmh+I+1uc6YNlhTnEnbZ2C7X0vGHOIfYTemImdG9C1wfI0AjI0ClBoy30xAy9cUOzA3E/DBeFUm2YTYVg7S4Uuddpn3OQoKXdr1i5AgZiR9ATM6F7E7o+QIZGQIZOCRptoSdm6I0bGh2ID5JW+V7ASmjOB1TN3sWdNqLC59iEWQZiV9ATM6F7E7o+QIZGQIZOCRptoSdm6I0bGh2IlVPqUkXdRs3wWO+dsifZVXhO9SDLQOwKemImdG9C1wfI0AjI0ClBoy30xAy9cUOjAzEZwQaiQk/MhO5N6PoAGRoBGTolaLSFnpihN25gIPYENhAVemImdG9C1wfI0AjI0ClBoy30xAy9cQMDsSewgajQEzOhexO6PkCGRkCGTgkabaEnZuiNGxiIPYENRIWemAndm9D1ATI0AjJ0StBoCz0xQ2/cwEDsCWwgKvTETOjehK4PkKERkKFTgkZb6IkZeuMGBmJPYANRoSdmQvcmdH2ADI2ADJ0SNNpCT8zQGzcwEHsCG4gKPTETujeh6wNkaARk6JSg0RZ6YobeuIGB2BPYQFToiZnQvQldHyBDIyBDpwSNttATM/TGDQzEnsAGokJPzITuTej6ABkaARk6JWi0hZ6YoTduYCD2BDYQFXpiJnRvQtcHyNAIyNApQaMt9MQMvXEDA7EnsIGo0BMzoXsTuj5AhkZAhk4JGm2hJ2bojRsYiD2BDUSFnpgJ3ZvQ9QEyNAIydErQaAs9MUNv3OAkEO/t7bGwsLCwsLCwsLA0psw0EBNCCCGEEBIqDMSEEEIIIUQ0DMSEEEIIIUQ0DMSEEEIIIUQ0DMSEEEIIIUQ0DMSEEEIIIUQ0DMSEEEIIIUQ0DMSEEEIIIUQ0DMSEEEIIIUQ0DMSEEEIIIUQ0DMSEEEIIIUQ0DMSEEEIIIUQ0DMSEEEIIIUQ0DMSEEEIIIUQ0DMSEEEIIIUQ0DMSEEEIIIUQ0DMSEEEIIIUQ0DMSEEEIIIUQ0/x9L/AhjlP8jswAAAABJRU5ErkJggg==))![image.png](data:image/png;base64,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)\n",
        "\n",
        "単位はTFLOPS（全て行列積）。メモリ帯域の単位はGB/s。\n",
        "\n",
        "2019年よりTeslaという名称は消した。NVIDIA Tesla V100 → NVIDIA V100。\n",
        "\n",
        "\n",
        "https://qiita.com/yukoba/items/10d0ba3fb1d19a6ab6a5 より引用"
      ]
    },
    {
      "cell_type": "code",
      "metadata": {
        "id": "Xd9sVGAIP0dN",
        "colab_type": "code",
        "colab": {}
      },
      "source": [
        "# Google Drive の マウント\n",
        "from google.colab import drive\n",
        "drive.mount('/content/drive')"
      ],
      "execution_count": 0,
      "outputs": []
    },
    {
      "cell_type": "code",
      "metadata": {
        "id": "_ABbAS9tQ0xb",
        "colab_type": "code",
        "colab": {}
      },
      "source": [
        "! ls \"/content/drive/My Drive/Colab Notebooks/database\""
      ],
      "execution_count": 0,
      "outputs": []
    },
    {
      "cell_type": "code",
      "metadata": {
        "id": "gFxj5lgrccH4",
        "colab_type": "code",
        "colab": {}
      },
      "source": [
        "import tensorflow as tf\n",
        "tf.test.gpu_device_name()"
      ],
      "execution_count": 0,
      "outputs": []
    },
    {
      "cell_type": "code",
      "metadata": {
        "id": "nB0oTXBSRPyT",
        "colab_type": "code",
        "colab": {}
      },
      "source": [
        "import pandas as pd"
      ],
      "execution_count": 0,
      "outputs": []
    },
    {
      "cell_type": "code",
      "metadata": {
        "id": "DBI5zsvjRSoR",
        "colab_type": "code",
        "colab": {}
      },
      "source": [
        "df_raw = pd.read_csv(\"/content/drive/My Drive/Colab Notebooks/database/jz7b02203_si_002.xlsx - perovskite.csv\")"
      ],
      "execution_count": 0,
      "outputs": []
    },
    {
      "cell_type": "code",
      "metadata": {
        "id": "IsUWCY7wRbGZ",
        "colab_type": "code",
        "colab": {}
      },
      "source": [
        "df_raw.tail()"
      ],
      "execution_count": 0,
      "outputs": []
    },
    {
      "cell_type": "code",
      "metadata": {
        "id": "fBX9vKxUReiA",
        "colab_type": "code",
        "colab": {}
      },
      "source": [
        "df_raw.describe()"
      ],
      "execution_count": 0,
      "outputs": []
    },
    {
      "cell_type": "code",
      "metadata": {
        "id": "7WifFyCqTkFX",
        "colab_type": "code",
        "colab": {}
      },
      "source": [
        "! pip install matminer"
      ],
      "execution_count": 0,
      "outputs": []
    },
    {
      "cell_type": "code",
      "metadata": {
        "id": "v3fNZY-ITiPp",
        "colab_type": "code",
        "colab": {}
      },
      "source": [
        "from pymatgen import Composition\n",
        "from matminer.featurizers.composition import ElementProperty"
      ],
      "execution_count": 0,
      "outputs": []
    },
    {
      "cell_type": "code",
      "metadata": {
        "id": "1kHoUkoYUhMX",
        "colab_type": "code",
        "colab": {}
      },
      "source": [
        "# #\n",
        "# features = [\"Number\", \"MendeleevNumber\", \"AtomicWeight\",\n",
        "#              \"MeltingT\",\n",
        "#              \"Column\", \"Row\", \"CovalentRadius\",\n",
        "#              \"Electronegativity\", \"NsValence\", \"NpValence\",\n",
        "#              \"NdValence\", \"NfValence\", \"NValence\",\n",
        "#              \"NsUnfilled\", \"NpUnfilled\", \"NdUnfilled\", \"NfUnfilled\",\n",
        "#              \"NUnfilled\", \"GSvolume_pa\",\n",
        "#              \"GSbandgap\", \"GSmagmom\", \"SpaceGroupNumber\"]\n",
        "# stats = [\"minimum\", \"maximum\", \"range\", \"mean\", \"avg_dev\", \"mode\"]\n",
        "#\n",
        "features = [\"Number\", \"AtomicWeight\",\n",
        "             \"MeltingT\",\n",
        "             \"Column\", \"Row\", \"CovalentRadius\",\n",
        "             \"Electronegativity\", \"NValence\", \"NUnfilled\", \"GSvolume_pa\"]\n",
        "stats = [\"minimum\", \"maximum\", \"mean\", \"avg_dev\"]\n",
        "#\n",
        "# features = [\"Number\", \"AtomicWeight\", \"CovalentRadius\", \"Electronegativity\"]\n",
        "# stats = [\"mean\"]\n",
        "\n",
        "featurizer = ElementProperty(\"magpie\", features, stats)"
      ],
      "execution_count": 0,
      "outputs": []
    },
    {
      "cell_type": "code",
      "metadata": {
        "id": "8PQICO3MV4xq",
        "colab_type": "code",
        "colab": {}
      },
      "source": [
        "df_raw[\"System\"][0]"
      ],
      "execution_count": 0,
      "outputs": []
    },
    {
      "cell_type": "code",
      "metadata": {
        "id": "OtPBQkN5V72W",
        "colab_type": "code",
        "colab": {}
      },
      "source": [
        "Composition(df_raw[\"System\"][0])"
      ],
      "execution_count": 0,
      "outputs": []
    },
    {
      "cell_type": "code",
      "metadata": {
        "id": "e90fX9HsWAN5",
        "colab_type": "code",
        "colab": {}
      },
      "source": [
        "[Composition(x) for x in df_raw[\"System\"]]"
      ],
      "execution_count": 0,
      "outputs": []
    },
    {
      "cell_type": "code",
      "metadata": {
        "id": "3ionOGsFWSIn",
        "colab_type": "code",
        "colab": {}
      },
      "source": [
        "[x * 2 for x in [1,2,3,4,5]]"
      ],
      "execution_count": 0,
      "outputs": []
    },
    {
      "cell_type": "code",
      "metadata": {
        "id": "K5iFJbn0Warx",
        "colab_type": "code",
        "colab": {}
      },
      "source": [
        "df_features = pd.DataFrame(\n",
        "    data=featurizer.featurize_many([Composition(x) for x in df_raw[\"System\"]]), \n",
        "    columns=featurizer.feature_labels())"
      ],
      "execution_count": 0,
      "outputs": []
    },
    {
      "cell_type": "code",
      "metadata": {
        "id": "0IRqqFdlWkT9",
        "colab_type": "code",
        "colab": {}
      },
      "source": [
        "df_features.tail()"
      ],
      "execution_count": 0,
      "outputs": []
    },
    {
      "cell_type": "code",
      "metadata": {
        "id": "XXmPZvPjWnDu",
        "colab_type": "code",
        "colab": {}
      },
      "source": [
        "df_features.describe()"
      ],
      "execution_count": 0,
      "outputs": []
    },
    {
      "cell_type": "code",
      "metadata": {
        "id": "u0jrcMrJWsDU",
        "colab_type": "code",
        "colab": {}
      },
      "source": [
        "df_raw.columns"
      ],
      "execution_count": 0,
      "outputs": []
    },
    {
      "cell_type": "code",
      "metadata": {
        "id": "U0xjcDDlW49k",
        "colab_type": "code",
        "colab": {}
      },
      "source": [
        "df = pd.concat([df_features, df_raw], axis=1)"
      ],
      "execution_count": 0,
      "outputs": []
    },
    {
      "cell_type": "code",
      "metadata": {
        "id": "_kfH1giFXLOb",
        "colab_type": "code",
        "colab": {}
      },
      "source": [
        "df.columns"
      ],
      "execution_count": 0,
      "outputs": []
    },
    {
      "cell_type": "code",
      "metadata": {
        "id": "R3sl362fXRut",
        "colab_type": "code",
        "colab": {}
      },
      "source": [
        "df.describe()"
      ],
      "execution_count": 0,
      "outputs": []
    },
    {
      "cell_type": "code",
      "metadata": {
        "id": "Fb1TY9g9XgAi",
        "colab_type": "code",
        "colab": {}
      },
      "source": [
        "dataset = df[list(df_features.columns) + [\"LowGap_SOHSE_Approx\"]]"
      ],
      "execution_count": 0,
      "outputs": []
    },
    {
      "cell_type": "code",
      "metadata": {
        "id": "k38j7YzhmTHM",
        "colab_type": "code",
        "colab": {}
      },
      "source": [
        "dataset.pop(\"MagpieData minimum NValence\")\n",
        "dataset.pop(\"MagpieData minimum Column\")\n",
        "dataset.pop(\"MagpieData maximum Column\");"
      ],
      "execution_count": 0,
      "outputs": []
    },
    {
      "cell_type": "code",
      "metadata": {
        "id": "946Mwa7v1v03",
        "colab_type": "code",
        "colab": {}
      },
      "source": [
        "from __future__ import absolute_import, division, print_function, unicode_literals\n",
        "\n",
        "import pathlib\n",
        "\n",
        "import matplotlib.pyplot as plt\n",
        "import pandas as pd\n",
        "import seaborn as sns\n",
        "\n",
        "import tensorflow as tf\n",
        "\n",
        "from tensorflow import keras\n",
        "from tensorflow.keras import layers\n",
        "\n",
        "print(tf.__version__)"
      ],
      "execution_count": 0,
      "outputs": []
    },
    {
      "cell_type": "code",
      "metadata": {
        "id": "i7Ixh0nA575O",
        "colab_type": "code",
        "colab": {}
      },
      "source": [
        "dataset.describe()"
      ],
      "execution_count": 0,
      "outputs": []
    },
    {
      "cell_type": "code",
      "metadata": {
        "id": "xtt-MlU11_d-",
        "colab_type": "code",
        "colab": {}
      },
      "source": [
        "# データクレンジング"
      ],
      "execution_count": 0,
      "outputs": []
    },
    {
      "cell_type": "code",
      "metadata": {
        "id": "L_TMUddx3ZRj",
        "colab_type": "code",
        "colab": {}
      },
      "source": [
        "# 欠損値のチェック\n",
        "dataset.isna().sum()"
      ],
      "execution_count": 0,
      "outputs": []
    },
    {
      "cell_type": "code",
      "metadata": {
        "id": "MCl6I-Hj3eNm",
        "colab_type": "code",
        "colab": {}
      },
      "source": [
        "# 欠損の削除\n",
        "dataset = dataset.dropna()"
      ],
      "execution_count": 0,
      "outputs": []
    },
    {
      "cell_type": "code",
      "metadata": {
        "id": "2Ldha-Tu3t6z",
        "colab_type": "code",
        "colab": {}
      },
      "source": [
        "# 訓練用セットとテスト用セットに分割\n",
        "train_dataset = dataset.sample(frac=0.8,random_state=0)\n",
        "test_dataset = dataset.drop(train_dataset.index)"
      ],
      "execution_count": 0,
      "outputs": []
    },
    {
      "cell_type": "code",
      "metadata": {
        "id": "PQdUj0TU32yY",
        "colab_type": "code",
        "colab": {}
      },
      "source": [
        "# データの観察\n",
        "#sns.pairplot(train_dataset, diag_kind=\"kde\")"
      ],
      "execution_count": 0,
      "outputs": []
    },
    {
      "cell_type": "code",
      "metadata": {
        "id": "cY1lY5GN35GY",
        "colab_type": "code",
        "colab": {}
      },
      "source": [
        "# 統計値の確認\n",
        "train_stats = train_dataset.describe()\n",
        "train_stats.pop(\"LowGap_SOHSE_Approx\")\n",
        "train_stats = train_stats.transpose()\n",
        "train_stats"
      ],
      "execution_count": 0,
      "outputs": []
    },
    {
      "cell_type": "code",
      "metadata": {
        "id": "6vJ5kY7N3-de",
        "colab_type": "code",
        "colab": {}
      },
      "source": [
        "# ラベル（予測したい数量）と特徴量の分離\n",
        "train_labels = train_dataset.pop('LowGap_SOHSE_Approx')\n",
        "test_labels = test_dataset.pop('LowGap_SOHSE_Approx')"
      ],
      "execution_count": 0,
      "outputs": []
    },
    {
      "cell_type": "code",
      "metadata": {
        "id": "YiKOyWVC4IX8",
        "colab_type": "code",
        "colab": {}
      },
      "source": [
        "# データの正規化\n",
        "def norm(x):\n",
        "  return (x - train_stats['mean']) / train_stats['std']\n",
        "normed_train_data = norm(train_dataset)\n",
        "normed_test_data = norm(test_dataset)"
      ],
      "execution_count": 0,
      "outputs": []
    },
    {
      "cell_type": "code",
      "metadata": {
        "id": "_v1fGL5ZmifJ",
        "colab_type": "code",
        "colab": {}
      },
      "source": [
        "normed_train_data.describe()"
      ],
      "execution_count": 0,
      "outputs": []
    },
    {
      "cell_type": "code",
      "metadata": {
        "id": "QG0wMPU04Nis",
        "colab_type": "code",
        "colab": {}
      },
      "source": [
        "# モデルの構築\n",
        "def build_model():\n",
        "  model = keras.Sequential([\n",
        "    layers.Dense(128, activation='relu', input_shape=[len(train_dataset.keys())]),\n",
        "    layers.Dense(128, activation='relu'),\n",
        "    layers.Dense(128, activation='relu'),\n",
        "    layers.Dense(128, activation='relu'),\n",
        "    layers.Dense(128, activation='relu'),\n",
        "    layers.Dense(128, activation='relu'),\n",
        "    layers.Dense(1)\n",
        "  ])\n",
        "\n",
        "  optimizer = tf.keras.optimizers.RMSprop(0.001)\n",
        "\n",
        "  model.compile(loss='mse',\n",
        "                optimizer=optimizer,\n",
        "                metrics=['mae', 'mse'])\n",
        "  return model"
      ],
      "execution_count": 0,
      "outputs": []
    },
    {
      "cell_type": "code",
      "metadata": {
        "id": "zVVbC4Aj4QoB",
        "colab_type": "code",
        "colab": {}
      },
      "source": [
        "model = build_model()"
      ],
      "execution_count": 0,
      "outputs": []
    },
    {
      "cell_type": "code",
      "metadata": {
        "id": "pf2Yd0LH4Rr8",
        "colab_type": "code",
        "colab": {}
      },
      "source": [
        "# モデルの概要\n",
        "model.summary()"
      ],
      "execution_count": 0,
      "outputs": []
    },
    {
      "cell_type": "code",
      "metadata": {
        "id": "lQKCNlBP4T7_",
        "colab_type": "code",
        "colab": {}
      },
      "source": [
        "# モデルの訓練\n",
        "# エポックが終わるごとにドットを一つ出力することで進捗を表示\n",
        "class PrintDot(keras.callbacks.Callback):\n",
        "  def on_epoch_end(self, epoch, logs):\n",
        "    if epoch % 100 == 0: print('')\n",
        "    print('.', end='')\n",
        "\n",
        "EPOCHS = 500\n",
        "\n",
        "import time\n",
        "a = time.time()\n",
        "history = model.fit(\n",
        "  normed_train_data, train_labels,\n",
        "  epochs=EPOCHS, validation_split = 0.2, verbose=0,\n",
        "  batch_size=32,\n",
        "  callbacks=[PrintDot()])\n",
        "print('')\n",
        "print(\"学習時間(s): \", time.time() - a)"
      ],
      "execution_count": 0,
      "outputs": []
    },
    {
      "cell_type": "code",
      "metadata": {
        "id": "U5psIcUm4fEj",
        "colab_type": "code",
        "colab": {}
      },
      "source": [
        "# 訓練の様子\n",
        "hist = pd.DataFrame(history.history)\n",
        "hist['epoch'] = history.epoch\n",
        "hist.tail()"
      ],
      "execution_count": 0,
      "outputs": []
    },
    {
      "cell_type": "code",
      "metadata": {
        "id": "n0Hlb7gY4hIV",
        "colab_type": "code",
        "colab": {}
      },
      "source": [
        "# 訓練の推移のプロット\n",
        "def plot_history(history):\n",
        "  hist = pd.DataFrame(history.history)\n",
        "  hist['epoch'] = history.epoch\n",
        "  \n",
        "  plt.figure()\n",
        "  plt.xlabel('Epoch')\n",
        "  plt.ylabel('Mean Abs Error [eV]')\n",
        "  plt.plot(hist['epoch'], hist['mae'],\n",
        "           label='Train Error')\n",
        "  plt.plot(hist['epoch'], hist['val_mae'],\n",
        "           label = 'Val Error')\n",
        "  plt.ylim([0,1])\n",
        "  plt.legend()\n",
        "  \n",
        "  plt.figure()\n",
        "  plt.xlabel('Epoch')\n",
        "  plt.ylabel('Mean Square Error [$eV^2$]')\n",
        "  plt.plot(hist['epoch'], hist['mse'],\n",
        "           label='Train Error')\n",
        "  plt.plot(hist['epoch'], hist['val_mse'],\n",
        "           label = 'Val Error')\n",
        "  plt.ylim([0,1])\n",
        "  plt.legend()\n",
        "  plt.show()\n",
        "\n",
        "\n",
        "plot_history(history)"
      ],
      "execution_count": 0,
      "outputs": []
    },
    {
      "cell_type": "code",
      "metadata": {
        "id": "2GrSSt514q8r",
        "colab_type": "code",
        "colab": {}
      },
      "source": [
        "model = build_model()\n",
        "\n",
        "# patience は改善が見られるかを監視するエポック数を表すパラメーター\n",
        "early_stop = keras.callbacks.EarlyStopping(monitor='val_loss', patience=10)\n",
        "\n",
        "history = model.fit(normed_train_data, train_labels, epochs=EPOCHS,\n",
        "                    validation_split = 0.2, verbose=0, callbacks=[early_stop, PrintDot()])\n",
        "\n",
        "plot_history(history)"
      ],
      "execution_count": 0,
      "outputs": []
    },
    {
      "cell_type": "code",
      "metadata": {
        "id": "B8OjOBGE49Dv",
        "colab_type": "code",
        "colab": {}
      },
      "source": [
        "# テスト用データセットを使い、モデルの汎化をチェック\n",
        "loss, mae, mse = model.evaluate(normed_test_data, test_labels, verbose=2)\n",
        "\n",
        "print(\"Testing set Mean Abs Error: {:5.2f} eV\".format(mae))"
      ],
      "execution_count": 0,
      "outputs": []
    },
    {
      "cell_type": "code",
      "metadata": {
        "id": "QtCx_27W5ND9",
        "colab_type": "code",
        "colab": {}
      },
      "source": [
        "# モデルを使った予測\n",
        "test_predictions = model.predict(normed_test_data).flatten()\n",
        "\n",
        "plt.scatter(test_labels, test_predictions)\n",
        "plt.xlabel('True Values [eV]')\n",
        "plt.ylabel('Predictions [eV]')\n",
        "plt.axis('equal')\n",
        "plt.axis('square')\n",
        "plt.xlim([0,plt.xlim()[1]])\n",
        "plt.ylim([0,plt.ylim()[1]])\n",
        "_ = plt.plot([-100, 100], [-100, 100])"
      ],
      "execution_count": 0,
      "outputs": []
    },
    {
      "cell_type": "code",
      "metadata": {
        "id": "ikc0CFBIsp7m",
        "colab_type": "code",
        "colab": {}
      },
      "source": [
        "import numpy as np\n",
        "import matplotlib.cm as cm\n",
        "\n",
        "plt.hist2d(test_labels, test_predictions, range=[[0,6],[0,6]], bins=20, cmap=cm.jet)\n",
        "plt.xlabel('True Values [eV]')\n",
        "plt.ylabel('Predictions [eV]')\n",
        "plt.axis('equal')\n",
        "plt.axis('square')\n",
        "plt.xlim([0,plt.xlim()[1]])\n",
        "plt.ylim([0,plt.ylim()[1]])\n",
        "_ = plt.plot([-100, 100], [-100, 100])"
      ],
      "execution_count": 0,
      "outputs": []
    },
    {
      "cell_type": "code",
      "metadata": {
        "id": "m1bQK2kx5Pud",
        "colab_type": "code",
        "colab": {}
      },
      "source": [
        "# 誤差の分布\n",
        "error = test_predictions - test_labels\n",
        "plt.hist(error, bins = 25)\n",
        "plt.xlabel(\"Prediction Error [eV]\")\n",
        "_ = plt.ylabel(\"Count\")"
      ],
      "execution_count": 0,
      "outputs": []
    },
    {
      "cell_type": "markdown",
      "metadata": {
        "id": "1Eesfxyg5T6t",
        "colab_type": "text"
      },
      "source": [
        "サンプル数が多いと正規分布に近づくと考えられる"
      ]
    },
    {
      "cell_type": "code",
      "metadata": {
        "id": "buBHkQS95dbn",
        "colab_type": "code",
        "colab": {}
      },
      "source": [
        ""
      ],
      "execution_count": 0,
      "outputs": []
    }
  ]
}